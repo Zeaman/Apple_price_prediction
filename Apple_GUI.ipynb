{
 "cells": [
  {
   "cell_type": "markdown",
   "id": "be5bf884",
   "metadata": {},
   "source": [
    "# GUI Based Prediction Notebook"
   ]
  },
  {
   "cell_type": "code",
   "execution_count": 2,
   "id": "56dfc3d4",
   "metadata": {},
   "outputs": [],
   "source": [
    "#import the required library\n",
    "import pandas as pd\n",
    "import numpy as np\n",
    "import matplotlib.pyplot as plt\n",
    "import tkinter as tk\n",
    "from tkinter import ttk\n",
    "from keras.models import load_model\n",
    "from sklearn.preprocessing import StandardScaler\n",
    "from sklearn.preprocessing import MinMaxScaler\n",
    "\n",
    "import tkinter as tk\n",
    "from tkinter import ttk\n",
    "from matplotlib.backends.backend_tkagg import FigureCanvasTkAgg"
   ]
  },
  {
   "cell_type": "code",
   "execution_count": 13,
   "id": "ac9c7609",
   "metadata": {},
   "outputs": [],
   "source": [
    "#load the apple dataset\n",
    "apple = pd.read_csv('D:/AI/apple_prediction/AAPL.csv')"
   ]
  },
  {
   "cell_type": "code",
   "execution_count": 14,
   "id": "79bb7cf9",
   "metadata": {},
   "outputs": [],
   "source": [
    "# load the test data\n",
    "test_data = pd.read_csv('D:/AI/apple_prediction/AAPL_test.csv', parse_dates=['Date'])"
   ]
  },
  {
   "cell_type": "code",
   "execution_count": 15,
   "id": "f1a7a8ea",
   "metadata": {},
   "outputs": [],
   "source": [
    "# Load the trained LSTM model\n",
    "model = load_model('D:/AI/apple_prediction/best_model.h5')"
   ]
  },
  {
   "cell_type": "code",
   "execution_count": 16,
   "id": "f8c529c7",
   "metadata": {},
   "outputs": [],
   "source": [
    "#chose Close for y\n",
    "apple[\"Close\"] = pd.to_numeric(apple.Close, errors = 'coerce' )\n",
    "apple = apple.dropna()\n",
    "#create a numpy arrary not a vector:\n",
    "train_data = apple.iloc[:,4:5].values"
   ]
  },
  {
   "cell_type": "code",
   "execution_count": 17,
   "id": "9aa9985c",
   "metadata": {},
   "outputs": [
    {
     "data": {
      "text/plain": [
       "(5036, 1)"
      ]
     },
     "execution_count": 17,
     "metadata": {},
     "output_type": "execute_result"
    }
   ],
   "source": [
    "#scale the test data between 0 to 1\n",
    "sc = MinMaxScaler(feature_range = (0,1))\n",
    "train_data = sc.fit_transform(train_data)\n",
    "train_data.shape"
   ]
  },
  {
   "cell_type": "markdown",
   "id": "c35c050e",
   "metadata": {},
   "source": [
    "## GUI-1: Display the predicted price of the next day"
   ]
  },
  {
   "cell_type": "code",
   "execution_count": 31,
   "id": "0154426c",
   "metadata": {},
   "outputs": [
    {
     "name": "stdout",
     "output_type": "stream",
     "text": [
      "1/1 [==============================] - 0s 34ms/step\n"
     ]
    }
   ],
   "source": [
    "# Create a tkinter window for next day price prediction\n",
    "root = tk.Tk()\n",
    "root.geometry(\"300x100\")\n",
    "root.title(\"Stock Price Predictor\")\n",
    "# Define a function to update the predicted price label\n",
    "def update_predicted_price():\n",
    "    # Call the function to get the predicted price\n",
    "    predicted_price = get_predicted_price()\n",
    "    # Update the label with the predicted price\n",
    "    predicted_price_label.config(text=f\"Predicted price: ${predicted_price:.2f}\")\n",
    "    \n",
    "# Define a function to get the predicted price\n",
    "def get_predicted_price():\n",
    "    apple_new = apple.filter(['Close'])\n",
    "    #last 2 months (60 days) closing prices are\n",
    "    last_60_days = apple_new[-60:].values\n",
    "    last_60_days_scaled = sc.transform(last_60_days)\n",
    "    X_test = []\n",
    "    X_test.append(last_60_days_scaled)\n",
    "    X_test = np.array(X_test)\n",
    "    X_test = np.reshape(X_test,(X_test.shape[0], X_test.shape[1],1))\n",
    "    next_day_pred = model.predict(X_test)\n",
    "    next_day_pred  = sc.inverse_transform(next_day_pred)\n",
    "    return next_day_pred[0][0]\n",
    "\n",
    "# Create a Label widget to display the predicted price\n",
    "predicted_price_label = tk.Label(root, text=\"Predicted price: $0.00\")\n",
    "\n",
    "# Create a button to update the predicted price\n",
    "update_button = tk.Button(root, text=\"Update\", command=update_predicted_price)\n",
    "\n",
    "# Pack the widgets into the window\n",
    "predicted_price_label.pack()\n",
    "update_button.pack()\n",
    "\n",
    "# Run the tkinter event loop\n",
    "root.mainloop()"
   ]
  },
  {
   "cell_type": "code",
   "execution_count": 21,
   "id": "ab47295a",
   "metadata": {},
   "outputs": [],
   "source": [
    "#covert the date column into date time using pandas\n",
    "apple['Date'] = pd.to_datetime(apple['Date'])\n",
    "# extract the closing price for the specified date\n",
    "apple_new = apple.filter(['Close'])\n",
    "apple_actual = apple.filter(['Close'])\n",
    "next_day_act = apple_new[train_data.shape[0]-1:train_data.shape[0]].values"
   ]
  },
  {
   "cell_type": "code",
   "execution_count": 23,
   "id": "8a9f4c6e",
   "metadata": {},
   "outputs": [
    {
     "name": "stdout",
     "output_type": "stream",
     "text": [
      "1/1 [==============================] - 0s 39ms/step\n"
     ]
    }
   ],
   "source": [
    "apple_new = apple.filter(['Close'])\n",
    "#last 2 months (60 days) closing prices are\n",
    "last_60_days = apple_new[-60:].values\n",
    "last_60_days_scaled = sc.transform(last_60_days)\n",
    "X_test = []\n",
    "X_test.append(last_60_days_scaled)\n",
    "X_test = np.array(X_test)\n",
    "X_test = np.reshape(X_test,(X_test.shape[0], X_test.shape[1],1))\n",
    "next_day_pred = model.predict(X_test)\n",
    "next_day_pred  = sc.inverse_transform(next_day_pred)"
   ]
  },
  {
   "cell_type": "code",
   "execution_count": 33,
   "id": "08efc3fc",
   "metadata": {},
   "outputs": [
    {
     "name": "stdout",
     "output_type": "stream",
     "text": [
      "1/1 [==============================] - 0s 34ms/step\n"
     ]
    }
   ],
   "source": [
    "# Create a tkinter window for suggestion\n",
    "root = tk.Tk()\n",
    "root.geometry(\"300x250\")\n",
    "root.title(\"Stock Price Predictor-2\")\n",
    "\n",
    "# Define a function to update the predicted price label\n",
    "def update_predicted_price():\n",
    "    # Call the function to get the predicted price\n",
    "    predicted_price = get_predicted_price()\n",
    "    # Update the label with the predicted price\n",
    "    predicted_price_label.config(text=f\"Predicted price: ${predicted_price:.2f}\")\n",
    "\n",
    "# Define a function to update \n",
    "def update_stop_loss():\n",
    "    # Call the function to get the predicted price\n",
    "    stop_loss = get_stop_loss()\n",
    "    # Update the label with the predicted price\n",
    "    stop_loss_label.config(text=f\"Suggested stop loss level: ${stop_loss:.2f}\")\n",
    "\n",
    "# Define a function to update \n",
    "def update_take_profit():\n",
    "    # Call the function to get the predicted price\n",
    "    take_profit = get_take_profit()\n",
    "    # Update the label with the predicted price\n",
    "    take_profit_label.config(text=f\"Suggested take profit level: ${take_profit:.2f}\")    \n",
    "\n",
    "# Define a function to get the predicted price\n",
    "def get_predicted_price():\n",
    "    apple_new = apple.filter(['Close'])\n",
    "    #last 2 months (60 days) closing prices are\n",
    "    last_60_days = apple_new[-60:].values\n",
    "    last_60_days_scaled = sc.transform(last_60_days)\n",
    "    X_test = []\n",
    "    X_test.append(last_60_days_scaled)\n",
    "    X_test = np.array(X_test)\n",
    "    X_test = np.reshape(X_test,(X_test.shape[0], X_test.shape[1],1))\n",
    "    next_day_pred = model.predict(X_test)\n",
    "    next_day_pred  = sc.inverse_transform(next_day_pred)\n",
    "    return next_day_pred[0][0]\n",
    "def get_stop_loss():\n",
    "    # set the stop loss and take profit thresholds as percentages of the actual price\n",
    "    stop_loss_threshold = 0.02 # 2% of actual price\n",
    "    stop_loss_level = next_day_act - (stop_loss_threshold * next_day_pred)\n",
    "    return stop_loss_level[0][0]\n",
    "def get_take_profit():\n",
    "    take_profit_threshold = 0.03 # 3% of actual price\n",
    "    take_profit_level = next_day_act + (take_profit_threshold * next_day_pred)\n",
    "    return take_profit_level[0][0]\n",
    "\n",
    "# Create a Label widget to display the predicted price\n",
    "predicted_price_label = tk.Label(root, text=\"Predicted price: $0.00\")\n",
    "# Create a button to update the predicted price\n",
    "update_button = tk.Button(root, text=\"Update\", command=update_predicted_price)\n",
    "# Pack the widgets into the window\n",
    "predicted_price_label.pack()\n",
    "update_button.pack()\n",
    "\n",
    "# Create a Label widget to display the \n",
    "stop_loss_label = tk.Label(root, text=\"Update please\")\n",
    "# Create a button to update the \n",
    "update_button_st = tk.Button(root, text=\"Update\", command=update_stop_loss)\n",
    "# Pack the widgets into the window\n",
    "stop_loss_label.pack()\n",
    "update_button_st.pack()\n",
    "\n",
    "# Create a Label widget to display the \n",
    "take_profit_label = tk.Label(root, text=\"Update please\")\n",
    "# Create a button to update the \n",
    "update_button_tp = tk.Button(root, text=\"Update\", command=update_take_profit)\n",
    "# Pack the widgets into the window\n",
    "take_profit_label.pack()\n",
    "update_button_tp.pack()\n",
    "\n",
    "# Run the tkinter event loop\n",
    "root.mainloop()"
   ]
  },
  {
   "cell_type": "markdown",
   "id": "ea0224f8",
   "metadata": {},
   "source": [
    "## GUI 2: using yyyy-mm-dd"
   ]
  },
  {
   "cell_type": "code",
   "execution_count": 34,
   "id": "d0a05708",
   "metadata": {},
   "outputs": [
    {
     "name": "stdout",
     "output_type": "stream",
     "text": [
      "1/1 [==============================] - 0s 31ms/step\n"
     ]
    }
   ],
   "source": [
    "import tkinter as tk\n",
    "from tkinter import ttk\n",
    "import numpy as np\n",
    "from datetime import datetime, timedelta\n",
    "\n",
    "# create the Tkinter window\n",
    "root = tk.Tk()\n",
    "root.title(\"Stock Price Predictor\")\n",
    "\n",
    "# define a function to update the predicted price label\n",
    "def update_predicted_price():\n",
    "    # get the current value of the input field\n",
    "    input_value = input_field.get()\n",
    "\n",
    "    # convert the input value to a datetime object\n",
    "    input_date = datetime.strptime(input_value, '%Y-%m-%d')\n",
    "\n",
    "    # create a 3-dimensional array with a single sample\n",
    "    # for the LSTM model to predict\n",
    "    X_pred = np.zeros((1, n_steps, n_features))\n",
    "    for i in range(n_steps):\n",
    "        date = input_date - timedelta(days=n_steps-i)\n",
    "        if date.date() in test_data.index:\n",
    "            X_pred[0, i, :] = test_data.loc[date.date(), :].values\n",
    "        else:\n",
    "            # if the date is not in the data, use the last available data point\n",
    "            X_pred[0, i, :] = X_test[-1, i, :]\n",
    "\n",
    "    # perform the prediction using the LSTM model and get the predicted price\n",
    "    predicted_price = model.predict(X_pred)[0, 0]\n",
    "\n",
    "    # update the label with the predicted price\n",
    "    predicted_price_label.config(text=f\"Predicted price: ${predicted_price:.2f}\")\n",
    "\n",
    "# define the number of time steps and features\n",
    "n_steps = 30\n",
    "n_features = 1\n",
    "\n",
    "# create a label for the input field\n",
    "input_label = ttk.Label(root, text=\"Enter a date (YYYY-MM-DD):\")\n",
    "input_label.pack()\n",
    "\n",
    "# create an input field\n",
    "input_field = ttk.Entry(root)\n",
    "input_field.pack()\n",
    "\n",
    "# create a button to trigger the prediction\n",
    "predict_button = ttk.Button(root, text=\"Predict\", command=update_predicted_price)\n",
    "predict_button.pack()\n",
    "\n",
    "# create a label for the predicted price\n",
    "predicted_price_label = ttk.Label(root, text=\"Predicted price: $0.00\")\n",
    "predicted_price_label.pack()\n",
    "\n",
    "# start the Tkinter event loop\n",
    "root.mainloop()\n"
   ]
  },
  {
   "cell_type": "code",
   "execution_count": null,
   "id": "191ec8ca",
   "metadata": {},
   "outputs": [],
   "source": []
  }
 ],
 "metadata": {
  "kernelspec": {
   "display_name": "apple",
   "language": "python",
   "name": "apple"
  },
  "language_info": {
   "codemirror_mode": {
    "name": "ipython",
    "version": 3
   },
   "file_extension": ".py",
   "mimetype": "text/x-python",
   "name": "python",
   "nbconvert_exporter": "python",
   "pygments_lexer": "ipython3",
   "version": "3.9.7"
  }
 },
 "nbformat": 4,
 "nbformat_minor": 5
}
